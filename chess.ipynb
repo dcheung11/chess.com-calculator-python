{
  "nbformat": 4,
  "nbformat_minor": 0,
  "metadata": {
    "colab": {
      "provenance": [],
      "authorship_tag": "ABX9TyNg3cbZBSR0etxZx7FUD2dT",
      "include_colab_link": true
    },
    "kernelspec": {
      "name": "python3",
      "display_name": "Python 3"
    },
    "language_info": {
      "name": "python"
    }
  },
  "cells": [
    {
      "cell_type": "markdown",
      "metadata": {
        "id": "view-in-github",
        "colab_type": "text"
      },
      "source": [
        "<a href=\"https://colab.research.google.com/github/dcheung11/chess.com-calculator-python/blob/main/chess.ipynb\" target=\"_parent\"><img src=\"https://colab.research.google.com/assets/colab-badge.svg\" alt=\"Open In Colab\"/></a>"
      ]
    },
    {
      "cell_type": "code",
      "execution_count": null,
      "metadata": {
        "colab": {
          "base_uri": "https://localhost:8080/"
        },
        "id": "J0HmCShr2-OL",
        "outputId": "eac7bccf-1b27-4b1d-a160-6d5ebdbc2df3"
      },
      "outputs": [
        {
          "output_type": "stream",
          "name": "stdout",
          "text": [
            "Looking in indexes: https://pypi.org/simple, https://us-python.pkg.dev/colab-wheels/public/simple/\n",
            "Requirement already satisfied: chess.com in /usr/local/lib/python3.10/dist-packages (2.0.6)\n",
            "Requirement already satisfied: aiohttp==3.8.3 in /usr/local/lib/python3.10/dist-packages (from chess.com) (3.8.3)\n",
            "Requirement already satisfied: requests==2.28.0 in /usr/local/lib/python3.10/dist-packages (from chess.com) (2.28.0)\n",
            "Requirement already satisfied: attrs>=17.3.0 in /usr/local/lib/python3.10/dist-packages (from aiohttp==3.8.3->chess.com) (23.1.0)\n",
            "Requirement already satisfied: charset-normalizer<3.0,>=2.0 in /usr/local/lib/python3.10/dist-packages (from aiohttp==3.8.3->chess.com) (2.0.12)\n",
            "Requirement already satisfied: multidict<7.0,>=4.5 in /usr/local/lib/python3.10/dist-packages (from aiohttp==3.8.3->chess.com) (6.0.4)\n",
            "Requirement already satisfied: async-timeout<5.0,>=4.0.0a3 in /usr/local/lib/python3.10/dist-packages (from aiohttp==3.8.3->chess.com) (4.0.2)\n",
            "Requirement already satisfied: yarl<2.0,>=1.0 in /usr/local/lib/python3.10/dist-packages (from aiohttp==3.8.3->chess.com) (1.9.2)\n",
            "Requirement already satisfied: frozenlist>=1.1.1 in /usr/local/lib/python3.10/dist-packages (from aiohttp==3.8.3->chess.com) (1.3.3)\n",
            "Requirement already satisfied: aiosignal>=1.1.2 in /usr/local/lib/python3.10/dist-packages (from aiohttp==3.8.3->chess.com) (1.3.1)\n",
            "Requirement already satisfied: idna<4,>=2.5 in /usr/local/lib/python3.10/dist-packages (from requests==2.28.0->chess.com) (3.4)\n",
            "Requirement already satisfied: urllib3<1.27,>=1.21.1 in /usr/local/lib/python3.10/dist-packages (from requests==2.28.0->chess.com) (1.26.15)\n",
            "Requirement already satisfied: certifi>=2017.4.17 in /usr/local/lib/python3.10/dist-packages (from requests==2.28.0->chess.com) (2022.12.7)\n"
          ]
        }
      ],
      "source": [
        "!pip install chess.com\n",
        "\n",
        "from chessdotcom import get_leaderboards, get_player_stats, get_player_game_archives\n",
        "import pprint\n",
        "import requests\n",
        "import numpy as np\n",
        "printer = pprint.PrettyPrinter()\n"
      ]
    },
    {
      "cell_type": "code",
      "source": [
        "from functools import WRAPPER_ASSIGNMENTS\n",
        "\n",
        "def get_monthly_games(archive):\n",
        "    response = requests.get(archive)\n",
        "    if response.status_code == 200:\n",
        "        data = response.json()\n",
        "        return data['games']\n",
        "        # do something with the data here\n",
        "    else:\n",
        "        print(f'Request failed with status code {response.status_code}')\n",
        "        return\n",
        "\n",
        "def get_game_archives(username):\n",
        "    all_games = []\n",
        "    data = get_player_game_archives(username).json\n",
        "\n",
        "    for archive in data[\"archives\"][-12:]:\n",
        "        monthly_games = get_monthly_games(archive)\n",
        "        all_games.extend(monthly_games)\n",
        "    return all_games\n",
        "\n",
        "def get_top_wins(games,username):\n",
        "    wins =0\n",
        "    top_wins = {}\n",
        "    for game in games:\n",
        "        is_white_winner = game[\"white\"][\"username\"] == username  and game[\"white\"][\"result\"] == 'win'\n",
        "        is_black_winner = game[\"black\"][\"username\"] == username and game[\"black\"][\"result\"] == 'win'\n",
        "        if is_white_winner:\n",
        "            wins += 1\n",
        "            top_wins[game['black']['username']] = game['black']['rating']\n",
        "        elif is_black_winner:\n",
        "            wins += 1\n",
        "            top_wins[game['white']['username']] = game['white']['rating']\n",
        "\n",
        "    # Sort the array in descending order\n",
        "    sorted_dict = dict(sorted(top_wins.items(), key=lambda x: x[1], reverse=True))\n",
        "    return sorted_dict\n",
        "    # printer.pprint(sorted_dict)\n"
      ],
      "metadata": {
        "id": "iuWH7nAY3CTE"
      },
      "execution_count": null,
      "outputs": []
    },
    {
      "cell_type": "code",
      "source": [
        "def create_user_path(users, target):\n",
        "    if target in users:\n",
        "        if len(users) < 2:\n",
        "          return \"You beat \" + users[0]\n",
        "        path = users[0] + \" beat \"\n",
        "        print(users)\n",
        "        current_user = users[1]\n",
        "\n",
        "        for user in users[2:]:\n",
        "            path += current_user + \" who beat \"\n",
        "            current_user = user\n",
        "            if user == target:\n",
        "                path += user\n",
        "                return path\n",
        "        return target + \" not found in user list\"\n",
        "    else:\n",
        "        return target + \" not found in user list\"\n",
        "\n",
        "visited = set()\n",
        "player_found = False\n",
        "\n",
        "def search_for_player(username, path, max_path, visited_players, target):\n",
        "    global player_found\n",
        "    \n",
        "    if player_found:\n",
        "        return\n",
        "    \n",
        "    if path > max_path:\n",
        "        print(\"Max search depth reached\")\n",
        "        return\n",
        "    \n",
        "    if username in visited:\n",
        "        return\n",
        "    \n",
        "    visited.add(username)\n",
        "    \n",
        "    print(\"Searching top wins for \" + username + \" with a target of \" + target)\n",
        "    \n",
        "    games = get_game_archives(username)\n",
        "    top_wins = get_top_wins(games, username)\n",
        "    \n",
        "    if target in top_wins:\n",
        "        visited_players.append(target)\n",
        "        # print(\"Done in \" + str(path))\n",
        "        # print(\" ----beat----> \".join(visited_players))\n",
        "        print(create_user_path(visited_players, target))\n",
        "        print(\"Degrees apart: \", len(visited_players) - 1)\n",
        "\n",
        "        player_found = True\n",
        "    else:\n",
        "        visited_players.append(username)\n",
        "        # print(\"Search num \" + str(path))\n",
        "        # print(\"Top wins for \" + username + \": \" + str(top_wins)) \n",
        "        for key in top_wins.keys():\n",
        "            search_for_player(key, path+1, max_path, visited_players[:], target)\n",
        "\n",
        "\n",
        "# search_for_player(\"damedolla5\", 0, 20, [], \"MagnusCarlsen\")\n"
      ],
      "metadata": {
        "id": "ykWlNGVg3KTT"
      },
      "execution_count": null,
      "outputs": []
    },
    {
      "cell_type": "code",
      "source": [
        "def transitive_chess_search(me, target):\n",
        "  print(\"Have you beaten \" + target + \"?.....\")\n",
        "  search_for_player(me, 0, 20, [], target)\n",
        "\n",
        "# transitive_chess_search(\"damedolla5\", \"MagnusCarlsen\")\n",
        "transitive_chess_search(\"damedolla5\", \"GothamChess\")\n",
        "\n"
      ],
      "metadata": {
        "colab": {
          "base_uri": "https://localhost:8080/"
        },
        "id": "OhJpvlgEDq6f",
        "outputId": "2ec8229a-03e1-41cc-88c4-2e1edc7164a2"
      },
      "execution_count": null,
      "outputs": [
        {
          "output_type": "stream",
          "name": "stdout",
          "text": [
            "Have you beaten GothamChess?.....\n",
            "Searching top wins for damedolla5 with a target of GothamChess\n",
            "Searching top wins for Kytan with a target of GothamChess\n",
            "['damedolla5', 'GothamChess']\n",
            "GothamChess not found in user list\n",
            "Degrees apart:  1\n"
          ]
        }
      ]
    }
  ]
}